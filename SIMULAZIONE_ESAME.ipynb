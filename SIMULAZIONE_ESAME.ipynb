{
 "cells": [
  {
   "cell_type": "markdown",
   "id": "2e104579-a403-49ec-9510-2faacd461e9a",
   "metadata": {
    "jp-MarkdownHeadingCollapsed": true
   },
   "source": [
    "# ESERICIZI 0"
   ]
  },
  {
   "cell_type": "markdown",
   "id": "2bf896d1-801f-4e48-bcba-8d06e8cf081b",
   "metadata": {},
   "source": [
    "## esercizio 0.1 numpy.array([2,'c'], dtype=object) per tipi misti & ricordati stringa.replace('da_sostituire','sostituzione')\n",
    "## esercizio 0.4 ed esercizio 0.5 crei dict {} vuoto condizione (elemento in dict) da true o false"
   ]
  },
  {
   "cell_type": "code",
   "execution_count": 80,
   "id": "5a22dc95-4707-4f4f-941b-5032f56a28fc",
   "metadata": {},
   "outputs": [
    {
     "name": "stdout",
     "output_type": "stream",
     "text": [
      "[1 2 'Mickey' 4 'Mouse' 'Mickey' 7 8 'Mickey' 'Mouse' 11 'Mickey' 13 14\n",
      " 'MickeyMouse' 16 17 'Mickey' 19 'Mouse' 'Mickey' 22 23 'Mickey' 'Mouse'\n",
      " 26 'Mickey' 28 29 'MickeyMouse' 31 32 'Mickey' 34 'Mouse' 'Mickey' 37 38\n",
      " 'Mickey' 'Mouse' 41 'Mickey' 43 44 'MickeyMouse' 46 47 'Mickey' 49\n",
      " 'Mouse' 'Mickey' 52 53 'Mickey' 'Mouse' 56 'Mickey' 58 59 'MickeyMouse'\n",
      " 61 62 'Mickey' 64 'Mouse' 'Mickey' 67 68 'Mickey' 'Mouse' 71 'Mickey' 73\n",
      " 74 'MickeyMouse' 76 77 'Mickey' 79 'Mouse' 'Mickey' 82 83 'Mickey'\n",
      " 'Mouse' 86 'Mickey' 88 89 'MickeyMouse' 91 92 'Mickey' 94 'Mouse'\n",
      " 'Mickey' 97 98 'Mickey' 'Mouse']\n",
      "(1, 2, 'Donald', 4, 'Duck', 'Donald', 7, 8, 'Donald', 'Duck', 11, 'Donald', 13, 14, 'MickeyMouse', 16, 17, 'Donald', 19, 'Duck', 'Donald', 22, 23, 'Donald', 'Duck', 26, 'Donald', 28, 29, 'MickeyMouse', 31, 32, 'Donald', 34, 'Duck', 'Donald', 37, 38, 'Donald', 'Duck', 41, 'Donald', 43, 44, 'MickeyMouse', 46, 47, 'Donald', 49, 'Duck', 'Donald', 52, 53, 'Donald', 'Duck', 56, 'Donald', 58, 59, 'MickeyMouse', 61, 62, 'Donald', 64, 'Duck', 'Donald', 67, 68, 'Donald', 'Duck', 71, 'Donald', 73, 74, 'MickeyMouse', 76, 77, 'Donald', 79, 'Duck', 'Donald', 82, 83, 'Donald', 'Duck', 86, 'Donald', 88, 89, 'MickeyMouse', 91, 92, 'Donald', 94, 'Duck', 'Donald', 97, 98, 'Donald', 'Duck')\n"
     ]
    }
   ],
   "source": [
    "#0.1\n",
    "import numpy as np\n",
    "ls=np.array([i for i in range(1,101)] , dtype=object)\n",
    "res=ls.copy()\n",
    "res[ ls%3 == 0 ] = \"Mickey\"\n",
    "res[ ls%5 == 0 ] = \"Mouse\"\n",
    "res[ ls%15 == 0 ] = \"MickeyMouse\"\n",
    "print(res)\n",
    "#res = [ str(i).replace(\"Mickey\",\"Donald\") for i in res]\n",
    "res[ res==\"Mickey\" ]=\"Donald\"\n",
    "res[ res==\"Mouse\" ]=\"Duck\"\n",
    "res2=tuple(res)\n",
    "print(res2)"
   ]
  },
  {
   "cell_type": "code",
   "execution_count": 6,
   "id": "a09f8c3c-c0a5-484f-ae18-76a8f4a41cf0",
   "metadata": {},
   "outputs": [
    {
     "name": "stdout",
     "output_type": "stream",
     "text": [
      "swap 10 and 11\n",
      "into 11 and 10\n"
     ]
    }
   ],
   "source": [
    "#0.2\n",
    "'''\n",
    "The swap function\n",
    "Write a function that swap the values of two input variables x and y (whatever the type). Try to do that also without a temporary variable\n",
    "'''\n",
    "def swap(a,b):\n",
    "    temp=b\n",
    "    b=a\n",
    "    a=temp\n",
    "    return a,b\n",
    "def swap_no(a,b):\n",
    "    #a,b=b,a\n",
    "    return b,a\n",
    "x=10\n",
    "y=11\n",
    "print(f\"swap {x} and {y}\")\n",
    "x,y=swap(x,y)\n",
    "#x,y=swap_no(x,y)\n",
    "print(f\"into {x} and {y}\")"
   ]
  },
  {
   "cell_type": "code",
   "execution_count": 8,
   "id": "28662d50-4ef5-47ec-a440-12422bfb45a0",
   "metadata": {},
   "outputs": [
    {
     "name": "stdout",
     "output_type": "stream",
     "text": [
      "5.0\n"
     ]
    }
   ],
   "source": [
    "#0.3\n",
    "from math import sqrt\n",
    "def distance(u,v):\n",
    "    x1,y1=u\n",
    "    x2,y2=v\n",
    "    X=abs(x1-x2)\n",
    "    Y=abs(y1-y2)\n",
    "    return sqrt( X*X + Y*Y )\n",
    "u=(3,0)\n",
    "v=(0,4)\n",
    "print(distance(u,v))    "
   ]
  },
  {
   "cell_type": "code",
   "execution_count": 20,
   "id": "e892dca2-564f-4c33-bdc7-ba958087970c",
   "metadata": {},
   "outputs": [
    {
     "name": "stdout",
     "output_type": "stream",
     "text": [
      "char   appears 41 times\n",
      "char . appears 2 times\n",
      "char 0 appears 2 times\n",
      "char 1 appears 2 times\n",
      "char a appears 7 times\n",
      "char b appears 5 times\n",
      "char c appears 3 times\n",
      "char d appears 3 times\n",
      "char e appears 22 times\n",
      "char f appears 10 times\n",
      "char g appears 1 times\n",
      "char h appears 9 times\n",
      "char i appears 14 times\n",
      "char k appears 2 times\n",
      "char l appears 6 times\n",
      "char m appears 12 times\n",
      "char n appears 10 times\n",
      "char o appears 13 times\n",
      "char p appears 8 times\n",
      "char r appears 17 times\n",
      "char s appears 9 times\n",
      "char t appears 19 times\n",
      "char u appears 9 times\n",
      "char v appears 2 times\n",
      "char w appears 2 times\n",
      "char y appears 2 times\n",
      "Help on built-in function sorted in module builtins:\n",
      "\n",
      "sorted(iterable, /, *, key=None, reverse=False)\n",
      "    Return a new list containing all items from the iterable in ascending order.\n",
      "\n",
      "    A custom key function can be supplied to customize the sort order, and the\n",
      "    reverse flag can be set to request the result in descending order.\n",
      "\n"
     ]
    }
   ],
   "source": [
    "#0.4\n",
    "s=\"Write a program that prints the numbers from 1 to 100. \\\n",
    "But for multiples of three print Mickey instead of the number and for the multiples of five print Mouse. \\\n",
    "For numbers which are multiples of both three and five print MickeyMouse\"\n",
    "s=s.lower()\n",
    "data={} #an empty dictionary to fill with 'char':occurrences\n",
    "for i in list(s):\n",
    "    if i in data:\n",
    "        data[i]+=1\n",
    "    else:\n",
    "        data[i]=1\n",
    "for char in sorted(data): print( f\"char {char} appears {data[char]} times\")\n",
    "help(sorted)"
   ]
  },
  {
   "cell_type": "code",
   "execution_count": 29,
   "id": "32561e77-823e-416c-8e30-94aefc876e16",
   "metadata": {},
   "outputs": [
    {
     "name": "stdout",
     "output_type": "stream",
     "text": [
      "{1: 1, 3: 2, 5: 1, 8: 1, 9: 1, 10: 1, 16: 1, 18: 1, 19: 1, 20: 3, 24: 1, 30: 1, 31: 2, 33: 1, 34: 2, 36: 3, 37: 1, 39: 1, 41: 1, 42: 2, 45: 3, 47: 1, 50: 2, 51: 3, 53: 1, 54: 1, 55: 1, 56: 2, 57: 1, 58: 1, 63: 2, 64: 1, 66: 2, 70: 3, 72: 1, 74: 1, 75: 1, 79: 1, 81: 1, 82: 1, 84: 4, 85: 3, 86: 1, 87: 1, 88: 1, 89: 2, 90: 1, 91: 3, 92: 1, 94: 1, 95: 1, 96: 1, 98: 1, 99: 1}\n",
      "[1, 5, 8, 9, 10, 16, 18, 19, 24, 30, 33, 37, 39, 41, 47, 53, 54, 55, 57, 58, 64, 72, 74, 75, 79, 81, 82, 86, 87, 88, 90, 92, 94, 95, 96, 98, 99]\n"
     ]
    }
   ],
   "source": [
    "#0.5\n",
    "l = [36, 45, 58, 3, 74, 96, 64, 45, 31, 10, 24, 19, 33, 86, 99, 18, 63, 70, 85,\n",
    " 85, 63, 47, 56, 42, 70, 84, 88, 55, 20, 54, 8, 56, 51, 79, 81, 57, 37, 91,\n",
    " 1, 84, 84, 36, 66, 9, 89, 50, 42, 91, 50, 95, 90, 98, 39, 16, 82, 31, 92, 41,\n",
    " 45, 30, 66, 70, 34, 85, 94, 5, 3, 36, 72, 91, 84, 34, 87, 75, 53, 51, 20, 89, 51, 20]\n",
    "l.sort()\n",
    "data={}\n",
    "for i in l:\n",
    "    if i in data: data[i]+=1\n",
    "    else: data[i]=1\n",
    "print(data)\n",
    "numeri_singoli=[j for j in data if data[j]==1]\n",
    "print(numeri_singoli)"
   ]
  },
  {
   "cell_type": "code",
   "execution_count": 30,
   "id": "40a4c14d-e7d2-419d-8257-b73187b42755",
   "metadata": {},
   "outputs": [
    {
     "name": "stdout",
     "output_type": "stream",
     "text": [
      "15625\n"
     ]
    }
   ],
   "source": [
    "#0.6\n",
    "def square(a): return a**2\n",
    "def cube(a): return a**3\n",
    "def SuperPower(a): return cube(square(a))\n",
    "print(SuperPower(5))"
   ]
  },
  {
   "cell_type": "code",
   "execution_count": 32,
   "id": "e47955d0-09b8-4fb9-867f-14e6a6289ca0",
   "metadata": {},
   "outputs": [
    {
     "name": "stdout",
     "output_type": "stream",
     "text": [
      "[0, 1, 8, 27, 64, 125, 216, 343, 512, 729, 1000] [0, 1, 8, 27, 64, 125, 216, 343, 512, 729, 1000]\n"
     ]
    }
   ],
   "source": [
    "#0.7\n",
    "a=[]\n",
    "for i in range(0,11): a.append(i**3)\n",
    "b=[x**3 for x in range(0,11)]\n",
    "print(a,b)"
   ]
  },
  {
   "cell_type": "code",
   "execution_count": 33,
   "id": "6b6f63cb-e370-44d3-96b2-7daa76cf85f2",
   "metadata": {},
   "outputs": [
    {
     "name": "stdout",
     "output_type": "stream",
     "text": [
      "[(3, 4, 5), (5, 12, 13), (6, 8, 10), (7, 24, 25), (8, 15, 17), (9, 12, 15), (9, 40, 41), (10, 24, 26), (11, 60, 61), (12, 16, 20), (12, 35, 37), (13, 84, 85), (14, 48, 50), (15, 20, 25), (15, 36, 39), (16, 30, 34), (16, 63, 65), (18, 24, 30), (18, 80, 82), (20, 21, 29), (20, 48, 52), (21, 28, 35), (21, 72, 75), (24, 32, 40), (24, 45, 51), (24, 70, 74), (25, 60, 65), (27, 36, 45), (28, 45, 53), (28, 96, 100), (30, 40, 50), (30, 72, 78), (32, 60, 68), (33, 44, 55), (33, 56, 65), (35, 84, 91), (36, 48, 60), (36, 77, 85), (39, 52, 65), (39, 80, 89), (40, 42, 58), (40, 75, 85), (42, 56, 70), (45, 60, 75), (48, 55, 73), (48, 64, 80), (51, 68, 85), (54, 72, 90), (57, 76, 95), (60, 63, 87), (60, 80, 100), (65, 72, 97)]\n"
     ]
    }
   ],
   "source": [
    "#0.8\n",
    "res = [ (a,b,c) for a in range(0,101) for b in range(0,101) for c in range(0,101) if ( a*a+b*b==c*c and b > a and c>b) ]\n",
    "print(res)"
   ]
  },
  {
   "cell_type": "code",
   "execution_count": 39,
   "id": "e543d5fe-1cfb-4d89-bcb7-29722cf8023f",
   "metadata": {},
   "outputs": [
    {
     "name": "stdout",
     "output_type": "stream",
     "text": [
      "(-0.2, 0.3, 0.5)\n"
     ]
    }
   ],
   "source": [
    "#0.9\n",
    "import numpy as np\n",
    "def norm(u):\n",
    "    sum=0\n",
    "    for i in u: sum+=abs(i)\n",
    "    return tuple(np.array(u)/sum)\n",
    "print( norm( (-2,3,5) ) )    "
   ]
  },
  {
   "cell_type": "markdown",
   "id": "5b9139b1-2c56-4d37-9528-8b913dcb4729",
   "metadata": {
    "jp-MarkdownHeadingCollapsed": true
   },
   "source": [
    "# ESERCIZI 1"
   ]
  },
  {
   "cell_type": "markdown",
   "id": "9439ddc5-ca8d-4f85-a3e6-b78f20dc0798",
   "metadata": {},
   "source": [
    "## esercizio 1.3 con il decorator @hello per funzioni che prendono variabili!!!\n",
    "## esercizio 1.6 da mettere self.is_hungry=False IMPORTANTE self. perché è una variabile della singola istance"
   ]
  },
  {
   "cell_type": "code",
   "execution_count": 62,
   "id": "e1589a35-252f-4f57-bc36-1c067e5a4ee2",
   "metadata": {},
   "outputs": [
    {
     "name": "stdout",
     "output_type": "stream",
     "text": [
      "-26\n"
     ]
    }
   ],
   "source": [
    "#1.0\n",
    "from ex1_0 import cube_plus_one\n",
    "print(cube_plus_one(-3))"
   ]
  },
  {
   "cell_type": "code",
   "execution_count": 66,
   "id": "f8fbb902-bb36-4062-9003-44dd0a60171d",
   "metadata": {},
   "outputs": [
    {
     "name": "stdout",
     "output_type": "stream",
     "text": [
      "[(0, 0), (0, 1), (0, 2), (0, 3), (1, 0), (1, 1), (1, 2), (1, 3), (2, 0), (2, 1), (2, 2), (2, 3)]\n",
      "[0, 4, 16]\n",
      "[(0, 0), (0, 1), (0, 2), (0, 3), (1, 0), (1, 1), (1, 2), (1, 3), (2, 0), (2, 1), (2, 2), (2, 3)]\n",
      "[0, 4, 16]\n"
     ]
    }
   ],
   "source": [
    "#1.1\n",
    "#----------queste come list comprehension-----------\n",
    "# 1\n",
    "ans = []\n",
    "for i in range(3):\n",
    "    for j in range(4):\n",
    "        ans.append((i, j))\n",
    "print(ans)\n",
    "# 2\n",
    "ans = map(lambda x: x*x, filter(lambda x: x%2 == 0, range(5)))\n",
    "print (list(ans))\n",
    "#---------------------------------------------------\n",
    "\n",
    "print( [(i,j) for i in range(3) for j in range(4) ] )\n",
    "print( [x*x for x in range(5) if x%2 == 0] )"
   ]
  },
  {
   "cell_type": "code",
   "execution_count": 71,
   "id": "9abceedb-2b12-49d7-a0a7-262590b44775",
   "metadata": {},
   "outputs": [
    {
     "name": "stdout",
     "output_type": "stream",
     "text": [
      "[1, 2, 3, 0, 1, 2, 3, 4]\n",
      "[1, 2, 3, 0, 1, 2, 3, 4]\n",
      "[1, 2, 3, 0, 1, 2, 3, 4]\n",
      "[1, 2, 3]\n"
     ]
    }
   ],
   "source": [
    "#1.2\n",
    "# Convert the following function into a pure function with no global variables or side effects\n",
    "x = 5\n",
    "def f(alist):\n",
    "    for i in range(x):\n",
    "         alist.append(i)\n",
    "    return alist\n",
    "\n",
    "alist = [1,2,3]\n",
    "ans = f(alist)\n",
    "print (ans)\n",
    "print (alist) # alist has been changed!\n",
    "#---------------------------------------------------\n",
    "\n",
    "def f_giusta(l,x):\n",
    "    res=l.copy()\n",
    "    for i in range(x):\n",
    "         res.append(i)\n",
    "    return res\n",
    "y = [1,2,3]\n",
    "ans = f_giusta(y,5)\n",
    "print (ans)\n",
    "print (y)\n",
    "    "
   ]
  },
  {
   "cell_type": "code",
   "execution_count": 83,
   "id": "4072206c-38ed-4a7a-8266-a25a504923de",
   "metadata": {},
   "outputs": [
    {
     "name": "stdout",
     "output_type": "stream",
     "text": [
      "hello!\n",
      "5 4\n"
     ]
    },
    {
     "data": {
      "text/plain": [
       "25"
      ]
     },
     "execution_count": 83,
     "metadata": {},
     "output_type": "execute_result"
    }
   ],
   "source": [
    "#1.3\n",
    "'''\n",
    "Write a decorator hello that makes every wrapped function print “Hello!”, i.e. something like:\n",
    "@hello\n",
    "def square(x):\n",
    "    return x*x\n",
    "'''\n",
    "def hello(f,*arg):\n",
    "    def wrapper(*arg):\n",
    "        print(\"hello!\")\n",
    "        print(*arg)\n",
    "        return f(*arg) #anche nel wrapper il return sennò la funzione non spara fuori nulla\n",
    "    return wrapper #devo fare così mettendo il return perché è quello che viene eseguito quando chiamo la funzione hello\n",
    "\n",
    "@hello #sarebbe comme fare square=hello(square)\n",
    "def square(x,y):\n",
    "    return x*x\n",
    "\n",
    "square(5,4)"
   ]
  },
  {
   "cell_type": "code",
   "execution_count": 99,
   "id": "d8a06dd8-f785-42ae-8cbe-0278f4e62db2",
   "metadata": {},
   "outputs": [
    {
     "name": "stdout",
     "output_type": "stream",
     "text": [
      "hello\n",
      "4 -1\n",
      "<class 'tuple'>\n",
      "[4, -1, 'yolo']\n",
      "-1 yolo\n"
     ]
    },
    {
     "data": {
      "text/plain": [
       "64"
      ]
     },
     "execution_count": 99,
     "metadata": {},
     "output_type": "execute_result"
    }
   ],
   "source": [
    "#1.3 DOVE CAPISCI MEGLIO COSA SUCCEDE CON ARG\n",
    "def hello(funz,*arg):\n",
    "    def wrapper(*arg):\n",
    "        print(\"hello\")\n",
    "        print(*arg[0:2])\n",
    "        print(type(arg))\n",
    "        print(list(arg))\n",
    "        return funz(*arg)\n",
    "    return wrapper\n",
    "\n",
    "@hello\n",
    "def cube(x,y,z):\n",
    "    print(y,z)\n",
    "    return x**3\n",
    "\n",
    "cube(4,-1,\"yolo\")"
   ]
  },
  {
   "cell_type": "code",
   "execution_count": 124,
   "id": "811e8d98-5544-475e-bc29-2d5905f4643d",
   "metadata": {},
   "outputs": [
    {
     "name": "stdout",
     "output_type": "stream",
     "text": [
      "24\n",
      "24\n"
     ]
    }
   ],
   "source": [
    "#1.4\n",
    "def fact_recursion(n):\n",
    "    if n==0: return 1\n",
    "    else: return n*fact_recursion(n-1)\n",
    "\n",
    "def fact1(n):\n",
    "    if n==0: return 1\n",
    "    else:\n",
    "        res=1\n",
    "        for i in range(1,n+1): res=res*i\n",
    "        return res\n",
    "\n",
    "print(fact_recursion(4))\n",
    "print(fact1(4))   "
   ]
  },
  {
   "cell_type": "code",
   "execution_count": 35,
   "id": "a9140d34-31f3-4bf8-aa56-86c08db8a768",
   "metadata": {},
   "outputs": [
    {
     "name": "stdout",
     "output_type": "stream",
     "text": [
      "For element Al and radius 1 circumference, area and volume are: [3.141592653589793, 3.141592653589793, 8.377580409572781]\n",
      "For element Al and radius 2 circumference, area and volume are: [6.283185307179586, 12.566370614359172, 67.02064327658225]\n",
      "For element Al and radius 3 circumference, area and volume are: [9.42477796076938, 28.274333882308138, 226.19467105846508]\n",
      "\n",
      "\n",
      "For element Fe and radius 1 circumference, area and volume are: [18.84955592153876, 12.566370614359172, 20.94395102393195]\n",
      "For element Fe and radius 2 circumference, area and volume are: [37.69911184307752, 50.26548245743669, 167.5516081914556]\n",
      "For element Fe and radius 3 circumference, area and volume are: [56.548667764616276, 113.09733552923255, 565.4866776461627]\n",
      "\n",
      "\n",
      "For element Pb and radius 1 circumference, area and volume are: [94.24777960769379, 62.83185307179586, 125.66370614359171]\n",
      "For element Pb and radius 2 circumference, area and volume are: [188.49555921538757, 251.32741228718345, 1005.3096491487337]\n",
      "For element Pb and radius 3 circumference, area and volume are: [282.7433388230814, 565.4866776461628, 3392.920065876976]\n",
      "\n",
      "\n"
     ]
    }
   ],
   "source": [
    "#1.5\n",
    "'''\n",
    "5. Use HOFs (zip in particular) to compute the weight of a circle, a disk and a sphere, assuming different radii and different densities:\n",
    "\n",
    "densities = {\"Al\":[0.5,1,2],\"Fe\":[3,4,5],\"Pb\": [15,20,30]}\n",
    "radii = [1,2,3]\n",
    "\n",
    "where the entries of the dictionary's values are the linear, superficial and volumetric densities of the materials respectively.\n",
    "\n",
    "In particular define a list of three lambda functions using a comprehension that computes the circumference, the area and the volume for a given radius.\n",
    "'''\n",
    "densities = {\"Al\":[0.5,1,2],\"Fe\":[3,4,5],\"Pb\": [15,20,30]}\n",
    "radii = [1,2,3]\n",
    "\n",
    "from math import pi\n",
    "funz = [ lambda r,d: r*2*pi*d, lambda r,d: r*r*pi*d, lambda r,d: 4.*pi/3*d*(r**3)]\n",
    "for el in densities:\n",
    "    for r in radii:\n",
    "        ls=[ f(r,d) for f,d in zip(funz,densities[el]) ]\n",
    "        print(f\"For element {el} and radius {r} circumference, area and volume are: {ls}\")\n",
    "    print(\"\\n\")"
   ]
  },
  {
   "cell_type": "code",
   "execution_count": 53,
   "id": "cd56cd61-9030-43c3-a931-f97f5aa26efe",
   "metadata": {},
   "outputs": [
    {
     "name": "stdout",
     "output_type": "stream",
     "text": [
      "I have 3 dogs\n",
      "False\n",
      "False\n",
      "False\n",
      "And they're all mammals, of course\n",
      "My dogs are not hungry.\n"
     ]
    }
   ],
   "source": [
    "#1.6\n",
    "'''\n",
    "6. Edit the class defintion to add an instance attribute of is_hungry = True to the Dog class.\n",
    "Then add a method called eat() which changes the value of is_hungry to False when called.\n",
    "Figure out the best way to feed each dog and then output “My dogs are hungry.” if all are hungry or\n",
    "“My dogs are not hungry.” if all are not hungry. The final output should look like this:\n",
    "\n",
    "I have 3 dogs.  Tom is 6.  Fletcher is 7.  Larry is 9.  And they're all mammals, of course.  My dogs are not hungry. \n",
    "'''\n",
    "# Parent class\n",
    "class Dog:\n",
    "\n",
    "    # Class attribute\n",
    "    species = 'mammal'\n",
    "    is_hungry = True\n",
    "\n",
    "    # Initializer / Instance attributes\n",
    "    def __init__(self, name, age):\n",
    "        self.name = name\n",
    "        self.age = age\n",
    "        \n",
    "    #new method\n",
    "    def eat(self):\n",
    "        self.is_hungry=False\n",
    "    \n",
    "    # instance method\n",
    "    def description(self):\n",
    "        return \"{} is {} years old\".format(self.name, self.age)\n",
    "\n",
    "    # instance method\n",
    "    def speak(self, sound):\n",
    "        return \"{} says {}\".format(self.name, sound)\n",
    "\n",
    "# Child class (inherits from Dog class)\n",
    "class RussellTerrier(Dog):\n",
    "    def run(self, speed):\n",
    "        return \"{} runs {}\".format(self.name, speed)\n",
    "\n",
    "# Child class (inherits from Dog class)\n",
    "class Bulldog(Dog):\n",
    "    def run(self, speed):\n",
    "        return \"{} runs {}\".format(self.name, speed)\n",
    "\n",
    "data=[RussellTerrier(\"Tom\",6),Bulldog(\"Fletcher\",7),RussellTerrier(\"Larry\",9)]\n",
    "\n",
    "print(f\"I have {len(data)} dogs\")\n",
    "are_mammal=True\n",
    "all_eat=True\n",
    "all_not_eat=True\n",
    "for i in data:\n",
    "    i.eat()\n",
    "    print(i.is_hungry)\n",
    "    if i.species != \"mammal\": are_mammal=False\n",
    "    all_eat = all_eat and (not i.is_hungry)\n",
    "    all_not_eat = all_not_eat and (i.is_hungry)\n",
    "if are_mammal : print(\"And they're all mammals, of course\")\n",
    "if all_eat: print(\"My dogs are not hungry.\")\n",
    "if all_not_eat: print(\"My dogs are hungry.\")"
   ]
  },
  {
   "cell_type": "markdown",
   "id": "c205acc6-f490-45be-86ad-7f05145db533",
   "metadata": {
    "jp-MarkdownHeadingCollapsed": true
   },
   "source": [
    "# ESERCIZI 2"
   ]
  },
  {
   "cell_type": "markdown",
   "id": "b5491784-b7f7-447b-9b43-5145506228f0",
   "metadata": {},
   "source": [
    "## 2.2 ricordati caso NaN e inf\n",
    "## 2.3 ricordati float(\"inf\")\n",
    "## 2.6 ricordati plt.xscale('log') e anche per yscale"
   ]
  },
  {
   "cell_type": "code",
   "execution_count": 51,
   "id": "deffd557-14b0-40a2-8b8f-22d32310096e",
   "metadata": {},
   "outputs": [
    {
     "name": "stdout",
     "output_type": "stream",
     "text": [
      "AB2\n"
     ]
    }
   ],
   "source": [
    "#2.1\n",
    "#QUESTO PROGRAMMA E' ANCORA PIU' GENERALE PUO' FARE LA CONVERSIONE DI QUALSIASI BASE IN QUALSIASI BASE PURCHE' <= BASE 16\n",
    "\n",
    "#di default prendo e mi porto il numero a decimale (sia che parta da 2 o 16, oppure che sia da in 10)\n",
    "#poi da 10 mi sposto alla base finale richiesta\n",
    "\n",
    "#10 is treated as a number\n",
    "#2, 16 are treated as string\n",
    "\n",
    "a = list('0123456789ABCDEF')\n",
    "dict1 = {x:i for i,x in enumerate(a)} # useful for 2 / 16 ----> 10\n",
    "dict2 = {i:x for i,x in enumerate(a)} # useful for 10 ----> 2 / 16\n",
    "def to_decimal(value,base_from): # output in decimal  2--->10 or 16--->10\n",
    "    value = str(value).upper()\n",
    "    data = list(value)\n",
    "    data = data[::-1]\n",
    "    sum = 0\n",
    "    for i,x in enumerate(data):\n",
    "        if dict1[x] >= base_from: print('INPUT ERROR, BASE NOT CORRECT')\n",
    "        sum += dict1[x] * base_from ** i    \n",
    "    return sum\n",
    "\n",
    "def from_decimal(value,base_to): # 10--->2 or 10--->16, output is in string\n",
    "    if value == 0:\n",
    "        return '0'\n",
    "    else:\n",
    "        res = ''\n",
    "        while(value>0):\n",
    "            res = dict2[ value % base_to ] + res \n",
    "            value = value // base_to                   \n",
    "        return res\n",
    "\n",
    "def convert(value,base_from,base_to):\n",
    "    if base_from != 10:\n",
    "        value=to_decimal(value,base_from) #the value is convert to decimal\n",
    "    if base_to == 10:\n",
    "        return value\n",
    "    else: \n",
    "        return from_decimal(value,base_to) #before the value is always converted in base 10\n",
    "\n",
    "#origin='101010110010'\n",
    "#origin=2738\n",
    "origin='AB2'\n",
    "base_origin=16\n",
    "base_arrival=16\n",
    "#y = to_decimal(origin,base_origin)\n",
    "#print( y )\n",
    "#print( from_decimal( y,base_arrival ) ) \n",
    "print(convert(origin,base_origin,base_arrival))"
   ]
  },
  {
   "cell_type": "code",
   "execution_count": 39,
   "id": "87282a66-dc90-4613-b4aa-d4fc318d087b",
   "metadata": {},
   "outputs": [
    {
     "name": "stdout",
     "output_type": "stream",
     "text": [
      "11000001000010010001000000000000 in binary is equal to -8.56640625\n"
     ]
    }
   ],
   "source": [
    "#2.2\n",
    "c=\"11000001111110010101000111100111\" #\"0 10000011 11110010101000111100111\"\n",
    "b=\"11000001000010010001000000000000\"\n",
    "def convert (a):\n",
    "    #print(len(a))\n",
    "    sign=1-2*int(a[0])\n",
    "    exp=int(a[1:9],2)\n",
    "    mantissa=\"1\"+a[9:] #add the 1.\n",
    "    value_mantissa=0\n",
    "    for e,x in enumerate(mantissa): value_mantissa = value_mantissa + int(x) *2 ** (-1*e)\n",
    "    if exp==255 and value_mantissa>=1:\n",
    "        if value_mantissa>1: return \"NaN\" # case in which te mantissa as at least one value != 0, since its value is 1.matissa\n",
    "        else: return str(sign)+\"*INF\" #case value_mantissa == 1\n",
    "    else:\n",
    "        value=sign*value_mantissa*2**(exp-127)\n",
    "        return value\n",
    "\n",
    "print(f\"{b} in binary is equal to {convert(b)}\")"
   ]
  },
  {
   "cell_type": "code",
   "execution_count": 50,
   "id": "7e17a5a4-3db5-41e5-87c0-81697dd64386",
   "metadata": {},
   "outputs": [
    {
     "name": "stdout",
     "output_type": "stream",
     "text": [
      "underflow limit of this pc is up to 5e-324\n",
      "overflow limit of this pc is up to 8.98846567431158e+307\n"
     ]
    }
   ],
   "source": [
    "#2.3\n",
    "#define two variables inizialized to 1 and halve/double them enough time to exceed the under/over-flow limits\n",
    "a=1.\n",
    "b=1.\n",
    "while( a != 0 ):\n",
    "    under=a\n",
    "    a=a/2.\n",
    "    #print(a)\n",
    "print(f\"underflow limit of this pc is up to {under}\")\n",
    "\n",
    "while( b != float(\"inf\") ):\n",
    "    over=b\n",
    "    b=b*2.\n",
    "    #print(b)\n",
    "print(f\"overflow limit of this pc is up to {over}\") \n"
   ]
  },
  {
   "cell_type": "code",
   "execution_count": 59,
   "id": "f1685bf3-ed5d-43eb-a855-7d043ccc78e6",
   "metadata": {},
   "outputs": [
    {
     "name": "stdout",
     "output_type": "stream",
     "text": [
      "precision by adding is up untile 2.220446049250313e-16\n"
     ]
    }
   ],
   "source": [
    "#2.4\n",
    "a=1.\n",
    "epsilon=1.\n",
    "while ( a!=(a+epsilon) ):\n",
    "    precision=epsilon\n",
    "    epsilon=epsilon/2.\n",
    "    #print(precision,epsilon)\n",
    "print(f\"precision by adding is up untile {precision}\")\n",
    "    "
   ]
  },
  {
   "cell_type": "code",
   "execution_count": 2,
   "id": "e71704fc-a47c-4d9a-a51d-750fd8e3b494",
   "metadata": {},
   "outputs": [
    {
     "name": "stdout",
     "output_type": "stream",
     "text": [
      "Solution of 0.001x*x+1000.0x+0.001=0 using standard formula are: \n",
      " -0.0000010000 and -1000000.00 \n",
      "\n",
      "Solution of 0.001x*x+1000.0x+0.001=0 using unrationalized formula are: \n",
      " -0.0000010000 and -1000010.58 \n",
      "\n",
      "The computational issues are due to the fact that sqrt(delta) in nearly 1000, so equal to b so in the formula it happens that there is a division between two small numbers anche the computer doesn't handle it properly.\n",
      "\n",
      "The best computational solution of 0.001x*x+1000.0x+0.001=0 are: \n",
      " -0.0000010000 and -1000000.00 \n",
      "\n"
     ]
    }
   ],
   "source": [
    "#2.5\n",
    "from math import sqrt\n",
    "a,b,c = 0.001,1000.,0.001\n",
    "\n",
    "#soluzioni sono -0.0000010000 and -1000000.00 , ossia -(1e-6) e -(1e6)\n",
    "#ax^2+bx+c = 0, ossia (1e-3)x^2 + (1e3)x + (1e-3) = 0\n",
    "\n",
    "def f(x,a=a,b=b,c=c): \n",
    "    return a*x*x+b*x+c\n",
    "def sqrt_delta(a=a,b=b,c=c):\n",
    "    delta=b*b-4*a*c\n",
    "    if delta>= 0. :\n",
    "        return(sqrt(delta))\n",
    "    else:\n",
    "        print('MATH ERROR, negative square root')\n",
    "def sol1(a=a,b=b,c=c): \n",
    "    return [(-b+sqrt_delta())/(2*a) , (-b-sqrt_delta())/(2*a)]\n",
    "def sol2(a=a,b=b,c=c): \n",
    "    return [(4*a*c)/(2*a*(-b-sqrt_delta())) , (4*a*c)/(2*a*(-b+sqrt_delta()))]\n",
    "\n",
    "def best_sol(a=a,b=b,c=c):\n",
    "    sol=[]\n",
    "    for i,j in zip( sol1(),sol2() ):\n",
    "        if abs(f(i)) <= abs(f(j)): sol.append(i)\n",
    "        else: sol.append(j)\n",
    "    return sol\n",
    "\n",
    "x1,x2=sol1()\n",
    "print(f'Solution of {a}x*x+{b}x+{c}=0 using standard formula are: \\n {x1:.10f} and {x2:.2f} \\n')\n",
    "x1,x2=sol2()\n",
    "print(f'Solution of {a}x*x+{b}x+{c}=0 using unrationalized formula are: \\n {x1:.10f} and {x2:.2f} \\n')\n",
    "\n",
    "print('The computational issues are due to the fact that sqrt(delta) in nearly 1000, \\\n",
    "so equal to b so in the formula it happens that there is a division between two small numbers anche the computer doesn\\'t handle it properly.\\n')\n",
    "\n",
    "x1,x2=best_sol()\n",
    "print(f'The best computational solution of {a}x*x+{b}x+{c}=0 are: \\n {x1:.10f} and {x2:.2f} \\n')"
   ]
  },
  {
   "cell_type": "code",
   "execution_count": 1,
   "id": "12cd2001-935e-4253-b7aa-b9689f020bcb",
   "metadata": {},
   "outputs": [
    {
     "name": "stdout",
     "output_type": "stream",
     "text": [
      "The derivative using the limit definition with delta 0.01 is equal to:\n",
      "1.01000000\n",
      "\n",
      "The derivative using the limit definition with delta 0.0001 is equal to:\n",
      "1.00010000\n",
      "\n",
      "The derivative using the limit definition with delta 1e-06 is equal to:\n",
      "1.00000100\n",
      "\n",
      "The derivative using the limit definition with delta 1e-08 is equal to:\n",
      "1.00000000\n",
      "\n",
      "The derivative using the limit definition with delta 1e-10 is equal to:\n",
      "1.00000008\n",
      "\n",
      "The derivative using the limit definition with delta 1e-12 is equal to:\n",
      "1.00008890\n",
      "\n",
      "The derivative using the limit definition with delta 1e-14 is equal to:\n",
      "0.99920072\n",
      "\n",
      "While the derivative analitic value is 1\n",
      "\n",
      "Not same results due to computational factors, not an easy calculation cause it arises from a divsion of two small numbers\n"
     ]
    },
    {
     "data": {
      "image/png": "[encoded data removed]",
      "text/plain": [
       "<Figure size 640x480 with 1 Axes>"
      ]
     },
     "metadata": {},
     "output_type": "display_data"
    }
   ],
   "source": [
    "#2.6\n",
    "import matplotlib.pyplot as plt\n",
    "import numpy as np\n",
    "def f(x=1): return x*(x-1)\n",
    "def f_prime(x=1): return 2*x-1\n",
    "def f_der_lim(x,d): return ( f(x+d) - f(x) ) / d\n",
    "delta = [ 10**(-2*i) for i in range(1,8) ]\n",
    "from_der = np.array( [ f_der_lim(1,d) for d in delta ] )\n",
    "for d,ris in zip(delta,from_der): print(f'The derivative using the limit definition with delta {d} is equal to:\\n{ris:.8f}\\n')\n",
    "print(f'While the derivative analitic value is {f_prime(x=1)}\\n')\n",
    "print('Not same results due to computational factors, not an easy calculation cause it arises from a divsion of two small numbers')\n",
    "plt.plot(delta,abs(from_der-1),'o')\n",
    "plt.ylabel('accuracy')\n",
    "plt.xlabel('delta')\n",
    "plt.xscale('log')\n",
    "plt.yscale('log')\n",
    "plt.xlim(10**(-15),10**(-1))\n",
    "plt.grid(True)\n",
    "plt.show()"
   ]
  },
  {
   "cell_type": "code",
   "execution_count": 5,
   "id": "685cb3d7-9d90-450f-9f1b-fccccabe1cdf",
   "metadata": {},
   "outputs": [
    {
     "name": "stdout",
     "output_type": "stream",
     "text": [
      "The integral comutationally with Riemann methon using N=100 is: 1.571282776229796\n",
      "The analitical result of the integral is 1.5707963267948966\n",
      "Number of iterations are 409600 to mantain Riemann method for integral below 1 second with result 1.5707963286530642\n",
      "Number of iterations are 13107200 to mantain Riemann method for integral below 20 second with result 1.57079632680516\n"
     ]
    }
   ],
   "source": [
    "#2.7\n",
    "from math import pi\n",
    "from math import sqrt\n",
    "import numpy as np\n",
    "import time\n",
    "#N=100\n",
    "def f(x): \n",
    "    return sqrt(1-x*x)\n",
    "def integr(N):\n",
    "    bins = np.linspace(-1,1,N+1) #using this trick to center the xi in the bins, see below\n",
    "    a = np.array( [ f(x) for x in (bins[1:]+bins[:-1])/2 ] )\n",
    "    return a.sum()*2/N\n",
    "def time_integr(N):\n",
    "    start=time.time()\n",
    "    integr(N)\n",
    "    end=time.time()\n",
    "    return end-start\n",
    "print(f\"The integral comutationally with Riemann methon using N={100} is: {integr(100)}\")\n",
    "print(f'The analitical result of the integral is {pi/2}')\n",
    "def max_iteraz(seconds):\n",
    "    N=100\n",
    "    while(time_integr(N)<seconds):\n",
    "        N = N * 2\n",
    "    return int(N / 2) #sennò il programma ti da errore che lo interpreta come un float e non funzina più np.linspace(a,b,N)\n",
    "N_1_sec = max_iteraz(1)\n",
    "N_20_sec = max_iteraz(20)\n",
    "print(f'Number of iterations are {N_1_sec} to mantain Riemann method for integral below 1 second with result {integr(N_1_sec)}')\n",
    "print(f'Number of iterations are {N_20_sec} to mantain Riemann method for integral below 20 second with result {integr(N_20_sec)}')"
   ]
  },
  {
   "cell_type": "markdown",
   "id": "2066d26d-e12f-499b-ad5a-be97de5f26f3",
   "metadata": {
    "jp-MarkdownHeadingCollapsed": true
   },
   "source": [
    "# ESERCIZIO 3"
   ]
  },
  {
   "cell_type": "code",
   "execution_count": null,
   "id": "63825a2e-a6a4-4465-a066-f7ce63dae710",
   "metadata": {},
   "outputs": [],
   "source": []
  },
  {
   "cell_type": "code",
   "execution_count": null,
   "id": "4353f4e2-5d61-464d-b704-d95f76b23779",
   "metadata": {},
   "outputs": [],
   "source": []
  },
  {
   "cell_type": "code",
   "execution_count": null,
   "id": "86ce2317-4320-4500-8a64-582b9398a122",
   "metadata": {},
   "outputs": [],
   "source": []
  },
  {
   "cell_type": "markdown",
   "id": "941d5196-5cbf-4ff6-9aa4-128b6faba2aa",
   "metadata": {},
   "source": [
    "# ESERCIZI 4"
   ]
  },
  {
   "cell_type": "markdown",
   "id": "c2ff4609-85b5-4502-9806-8dee43ebe16f",
   "metadata": {},
   "source": [
    "## esercizio 4.2 e altri array[ : , np.newaxis] (così ho il vettore trasposto diciamo)\n",
    "## esercizio 4.3 vedi guida help(np.any), anche np.full\n",
    "## esercizio 4.4 plt.axvline(x) per plottare le linee verticali, occhio x non array ma un int, devi fare ciclo for da fuori\n",
    "## esercizio 4.5 np.diagonal(array,offset=)\n",
    "## esercizio 4.6 df.index setto le righe, df.columns setto le colonne\n",
    "## esercizio 4.7 timeit.timeit(lambda: funzione, number=100) ritorna un float che è la media del tempo\n",
    "## esercizio 4.7 plt.sublpot(nrow,ncol,index)\n",
    "## esercizio 4.8 np.cumsum(data,axis=1)\n",
    "## esercizio 4.9 np.loadtxt\n",
    "## esercizio 4.9 df.corr() e df.describe()\n",
    "## esercizio 4.9 np.argmax( ) per avere l'indice della posizione dove sta il valore max\n",
    "## esercizio 4.9 data[:,1:] così escludo la colonna numero 0\n",
    "## trick utile nparray.T per trasporre un vettore"
   ]
  },
  {
   "cell_type": "code",
   "execution_count": 43,
   "id": "6a0f2e26-d63e-4118-bc46-cdce8252c29c",
   "metadata": {},
   "outputs": [
    {
     "name": "stdout",
     "output_type": "stream",
     "text": [
      "[[ 0  1  2  3]\n",
      " [ 4  5  6  7]\n",
      " [ 8  9 10 11]]\n",
      "[4. 5. 6. 7.] [1.5 5.5 9.5] 5.5\n"
     ]
    }
   ],
   "source": [
    "#4.1\n",
    "import numpy as np\n",
    "m = np.arange(12).reshape((3,4))\n",
    "print(m)\n",
    "col = np.mean(m,axis=0)\n",
    "row = np.mean(m,axis=1)\n",
    "mean = m.mean()\n",
    "print(col,row,mean)"
   ]
  },
  {
   "cell_type": "code",
   "execution_count": 50,
   "id": "493396f9-9e09-46e4-82d3-4f9ef5d429c6",
   "metadata": {},
   "outputs": [
    {
     "name": "stdout",
     "output_type": "stream",
     "text": [
      "[[ 2  4  6  8]\n",
      " [ 6 12 18 24]\n",
      " [10 20 30 40]\n",
      " [14 28 42 56]]\n",
      "[[ 2  6 10 14]\n",
      " [ 4 12 20 28]\n",
      " [ 6 18 30 42]\n",
      " [ 8 24 40 56]]\n",
      "[[ 2  6 10 14]\n",
      " [ 4 12 20 28]\n",
      " [ 6 18 30 42]\n",
      " [ 8 24 40 56]]\n"
     ]
    }
   ],
   "source": [
    "#4.2\n",
    "u = np.array([1,3,5,7])\n",
    "v = np.array([2,4,6,8])\n",
    "print(np.outer(u,v))\n",
    "print( np.array([[i*j for i in u] for j in v]) )\n",
    "print(u*v[:,np.newaxis])"
   ]
  },
  {
   "cell_type": "code",
   "execution_count": 76,
   "id": "6eb1ebdf-7791-4087-ab0e-692d72d1dacb",
   "metadata": {},
   "outputs": [
    {
     "name": "stdout",
     "output_type": "stream",
     "text": [
      "[[0.64893206 0.20780442 0.57746197 0.97948705 0.25208382 0.90171345]\n",
      " [0.75653004 0.23086359 0.9210512  0.17178187 0.50448989 0.29408935]\n",
      " [0.06081267 0.66234674 0.6381715  0.05409221 0.30359826 0.18038082]\n",
      " [0.50698904 0.9326261  0.84651945 0.27798491 0.52191973 0.02212471]\n",
      " [0.73654692 0.83916432 0.6987016  0.79780855 0.34111986 0.5690756 ]\n",
      " [0.59067134 0.44489649 0.34360761 0.24938182 0.95558469 0.00492787]\n",
      " [0.94270696 0.8749944  0.37803475 0.28558301 0.06540472 0.35666673]\n",
      " [0.72883294 0.13377743 0.96629501 0.07944268 0.45163958 0.87066995]\n",
      " [0.4739831  0.38010041 0.6960402  0.77283154 0.38203281 0.60514314]\n",
      " [0.64775354 0.62132902 0.42115206 0.94263938 0.3271461  0.90298679]]\n",
      "\n",
      "\n",
      "[[0.64893206 0.20780442 0.57746197 0.97948705 0.25208382 0.90171345]\n",
      " [0.75653004 0.23086359 0.9210512  0.17178187 0.50448989 0.29408935]\n",
      " [0.         0.         0.         0.         0.         0.        ]\n",
      " [0.         0.         0.         0.         0.         0.        ]\n",
      " [0.73654692 0.83916432 0.6987016  0.79780855 0.34111986 0.5690756 ]\n",
      " [0.         0.         0.         0.         0.         0.        ]\n",
      " [0.         0.         0.         0.         0.         0.        ]\n",
      " [0.         0.         0.         0.         0.         0.        ]\n",
      " [0.4739831  0.38010041 0.6960402  0.77283154 0.38203281 0.60514314]\n",
      " [0.64775354 0.62132902 0.42115206 0.94263938 0.3271461  0.90298679]]\n"
     ]
    }
   ],
   "source": [
    "#4.3\n",
    "import numpy.random as npr\n",
    "a=npr.random(size=(10,6))\n",
    "c=np.any(a,axis=1,keepdims=True,where=a<0.1)\n",
    "c=c*np.full((6),True)\n",
    "print(a)\n",
    "#print(c)\n",
    "print(\"\\n\")\n",
    "a[c]=0\n",
    "print(a)"
   ]
  },
  {
   "cell_type": "code",
   "execution_count": 52,
   "id": "9de4b42d-4178-4aed-ba02-66ed99e2da10",
   "metadata": {},
   "outputs": [
    {
     "name": "stdout",
     "output_type": "stream",
     "text": [
      "[[0.         0.06346652 0.12693304 0.19039955 0.25386607]\n",
      " [0.31733259 0.38079911 0.44426563 0.50773215 0.57119866]\n",
      " [0.63466518 0.6981317  0.76159822 0.82506474 0.88853126]\n",
      " [0.95199777 1.01546429 1.07893081 1.14239733 1.20586385]\n",
      " [1.26933037 1.33279688 1.3962634  1.45972992 1.52319644]\n",
      " [1.58666296 1.65012947 1.71359599 1.77706251 1.84052903]\n",
      " [1.90399555 1.96746207 2.03092858 2.0943951  2.15786162]\n",
      " [2.22132814 2.28479466 2.34826118 2.41172769 2.47519421]\n",
      " [2.53866073 2.60212725 2.66559377 2.72906028 2.7925268 ]\n",
      " [2.85599332 2.91945984 2.98292636 3.04639288 3.10985939]\n",
      " [3.17332591 3.23679243 3.30025895 3.36372547 3.42719199]\n",
      " [3.4906585  3.55412502 3.61759154 3.68105806 3.74452458]\n",
      " [3.8079911  3.87145761 3.93492413 3.99839065 4.06185717]\n",
      " [4.12532369 4.1887902  4.25225672 4.31572324 4.37918976]\n",
      " [4.44265628 4.5061228  4.56958931 4.63305583 4.69652235]\n",
      " [4.75998887 4.82345539 4.88692191 4.95038842 5.01385494]\n",
      " [5.07732146 5.14078798 5.2042545  5.26772102 5.33118753]\n",
      " [5.39465405 5.45812057 5.52158709 5.58505361 5.64852012]\n",
      " [5.71198664 5.77545316 5.83891968 5.9023862  5.96585272]\n",
      " [6.02931923 6.09278575 6.15625227 6.21971879 6.28318531]]\n",
      "[0.7615982190520711, 0.8250647373064104, 3.8714576135146945, 3.934924131769034]\n"
     ]
    },
    {
     "data": {
      "image/png": "[encoded data removed]",
      "text/plain": [
       "<Figure size 640x480 with 1 Axes>"
      ]
     },
     "metadata": {},
     "output_type": "display_data"
    }
   ],
   "source": [
    "#4.4\n",
    "'''\n",
    " Use np.linspace to create an array of 100 numbers between 0 and 2π (includsive).\n",
    "\n",
    "    Extract every 10th element using slice notation\n",
    "    Reverse the array using slice notation\n",
    "    Extract elements where the absolute difference between the sine and cosine functions evaluated at that element is less than 0.1\n",
    "    Make a plot showing the sin and cos functions and indicate where they are close\n",
    "'''\n",
    "from math import pi\n",
    "import numpy as np\n",
    "import matplotlib.pyplot as plt\n",
    "a=np.linspace(0,2*pi,100)\n",
    "c=a.copy().reshape(20,5)\n",
    "print(c)\n",
    "#print(a[::10])\n",
    "#print(a[::-1])\n",
    "d=[ i for i in a if abs(np.sin(i)-np.cos(i))<0.1 ]\n",
    "print(d)\n",
    "plt.plot(a,np.sin(a),label='sin(x)')\n",
    "plt.plot(a,np.cos(a),label='cos(x)')\n",
    "for line in d: plt.axvline(line,linestyle='--',color='red')\n",
    "plt.title('Where |cos(x)-sin(x)|<0.1')\n",
    "plt.legend(loc='best')\n",
    "plt.show()"
   ]
  },
  {
   "cell_type": "code",
   "execution_count": 101,
   "id": "fef28d4b-13ca-426b-a375-20e8191776e6",
   "metadata": {},
   "outputs": [
    {
     "name": "stdout",
     "output_type": "stream",
     "text": [
      "[[  1   2   3   4   5   6   7   8   9  10]\n",
      " [  2   4   6   8  10  12  14  16  18  20]\n",
      " [  3   6   9  12  15  18  21  24  27  30]\n",
      " [  4   8  12  16  20  24  28  32  36  40]\n",
      " [  5  10  15  20  25  30  35  40  45  50]\n",
      " [  6  12  18  24  30  36  42  48  54  60]\n",
      " [  7  14  21  28  35  42  49  56  63  70]\n",
      " [  8  16  24  32  40  48  56  64  72  80]\n",
      " [  9  18  27  36  45  54  63  72  81  90]\n",
      " [ 10  20  30  40  50  60  70  80  90 100]]\n",
      "385\n",
      "[10 18 24 28 30 30 28 24 18 10]\n",
      "[ 2  6 12 20 30 42 56 72 90]\n"
     ]
    }
   ],
   "source": [
    "#4.5\n",
    "a=np.arange(1,11)\n",
    "b=a*a[:,np.newaxis]\n",
    "print(b)\n",
    "print(np.trace(b))\n",
    "print(np.diagonal(b[::-1]))\n",
    "print(np.diagonal(b,offset=1))"
   ]
  },
  {
   "cell_type": "code",
   "execution_count": 120,
   "id": "db7083a8-22bc-4756-a587-db7d8c3f32e3",
   "metadata": {},
   "outputs": [
    {
     "data": {
      "text/html": [
       "<div>\n",
       "<style scoped>\n",
       "    .dataframe tbody tr th:only-of-type {\n",
       "        vertical-align: middle;\n",
       "    }\n",
       "\n",
       "    .dataframe tbody tr th {\n",
       "        vertical-align: top;\n",
       "    }\n",
       "\n",
       "    .dataframe thead th {\n",
       "        text-align: right;\n",
       "    }\n",
       "</style>\n",
       "<table border=\"1\" class=\"dataframe\">\n",
       "  <thead>\n",
       "    <tr style=\"text-align: right;\">\n",
       "      <th></th>\n",
       "      <th>Chicago</th>\n",
       "      <th>Springfield</th>\n",
       "      <th>Saint-Louis</th>\n",
       "      <th>Tulsa</th>\n",
       "      <th>Oklahoma City</th>\n",
       "      <th>Amarillo</th>\n",
       "      <th>Santa Fe</th>\n",
       "      <th>Albuquerque</th>\n",
       "      <th>Flagstaff</th>\n",
       "      <th>Los Angeles</th>\n",
       "    </tr>\n",
       "  </thead>\n",
       "  <tbody>\n",
       "    <tr>\n",
       "      <th>Chicago</th>\n",
       "      <td>0</td>\n",
       "      <td>198</td>\n",
       "      <td>303</td>\n",
       "      <td>736</td>\n",
       "      <td>871</td>\n",
       "      <td>1175</td>\n",
       "      <td>1475</td>\n",
       "      <td>1544</td>\n",
       "      <td>1913</td>\n",
       "      <td>2448</td>\n",
       "    </tr>\n",
       "    <tr>\n",
       "      <th>Springfield</th>\n",
       "      <td>198</td>\n",
       "      <td>0</td>\n",
       "      <td>105</td>\n",
       "      <td>538</td>\n",
       "      <td>673</td>\n",
       "      <td>977</td>\n",
       "      <td>1277</td>\n",
       "      <td>1346</td>\n",
       "      <td>1715</td>\n",
       "      <td>2250</td>\n",
       "    </tr>\n",
       "    <tr>\n",
       "      <th>Saint-Louis</th>\n",
       "      <td>303</td>\n",
       "      <td>105</td>\n",
       "      <td>0</td>\n",
       "      <td>433</td>\n",
       "      <td>568</td>\n",
       "      <td>872</td>\n",
       "      <td>1172</td>\n",
       "      <td>1241</td>\n",
       "      <td>1610</td>\n",
       "      <td>2145</td>\n",
       "    </tr>\n",
       "    <tr>\n",
       "      <th>Tulsa</th>\n",
       "      <td>736</td>\n",
       "      <td>538</td>\n",
       "      <td>433</td>\n",
       "      <td>0</td>\n",
       "      <td>135</td>\n",
       "      <td>439</td>\n",
       "      <td>739</td>\n",
       "      <td>808</td>\n",
       "      <td>1177</td>\n",
       "      <td>1712</td>\n",
       "    </tr>\n",
       "    <tr>\n",
       "      <th>Oklahoma City</th>\n",
       "      <td>871</td>\n",
       "      <td>673</td>\n",
       "      <td>568</td>\n",
       "      <td>135</td>\n",
       "      <td>0</td>\n",
       "      <td>304</td>\n",
       "      <td>604</td>\n",
       "      <td>673</td>\n",
       "      <td>1042</td>\n",
       "      <td>1577</td>\n",
       "    </tr>\n",
       "    <tr>\n",
       "      <th>Amarillo</th>\n",
       "      <td>1175</td>\n",
       "      <td>977</td>\n",
       "      <td>872</td>\n",
       "      <td>439</td>\n",
       "      <td>304</td>\n",
       "      <td>0</td>\n",
       "      <td>300</td>\n",
       "      <td>369</td>\n",
       "      <td>738</td>\n",
       "      <td>1273</td>\n",
       "    </tr>\n",
       "    <tr>\n",
       "      <th>Santa Fe</th>\n",
       "      <td>1475</td>\n",
       "      <td>1277</td>\n",
       "      <td>1172</td>\n",
       "      <td>739</td>\n",
       "      <td>604</td>\n",
       "      <td>300</td>\n",
       "      <td>0</td>\n",
       "      <td>69</td>\n",
       "      <td>438</td>\n",
       "      <td>973</td>\n",
       "    </tr>\n",
       "    <tr>\n",
       "      <th>Albuquerque</th>\n",
       "      <td>1544</td>\n",
       "      <td>1346</td>\n",
       "      <td>1241</td>\n",
       "      <td>808</td>\n",
       "      <td>673</td>\n",
       "      <td>369</td>\n",
       "      <td>69</td>\n",
       "      <td>0</td>\n",
       "      <td>369</td>\n",
       "      <td>904</td>\n",
       "    </tr>\n",
       "    <tr>\n",
       "      <th>Flagstaff</th>\n",
       "      <td>1913</td>\n",
       "      <td>1715</td>\n",
       "      <td>1610</td>\n",
       "      <td>1177</td>\n",
       "      <td>1042</td>\n",
       "      <td>738</td>\n",
       "      <td>438</td>\n",
       "      <td>369</td>\n",
       "      <td>0</td>\n",
       "      <td>535</td>\n",
       "    </tr>\n",
       "    <tr>\n",
       "      <th>Los Angeles</th>\n",
       "      <td>2448</td>\n",
       "      <td>2250</td>\n",
       "      <td>2145</td>\n",
       "      <td>1712</td>\n",
       "      <td>1577</td>\n",
       "      <td>1273</td>\n",
       "      <td>973</td>\n",
       "      <td>904</td>\n",
       "      <td>535</td>\n",
       "      <td>0</td>\n",
       "    </tr>\n",
       "  </tbody>\n",
       "</table>\n",
       "</div>"
      ],
      "text/plain": [
       "               Chicago  Springfield  Saint-Louis  Tulsa  Oklahoma City  \\\n",
       "Chicago              0          198          303    736            871   \n",
       "Springfield        198            0          105    538            673   \n",
       "Saint-Louis        303          105            0    433            568   \n",
       "Tulsa              736          538          433      0            135   \n",
       "Oklahoma City      871          673          568    135              0   \n",
       "Amarillo          1175          977          872    439            304   \n",
       "Santa Fe          1475         1277         1172    739            604   \n",
       "Albuquerque       1544         1346         1241    808            673   \n",
       "Flagstaff         1913         1715         1610   1177           1042   \n",
       "Los Angeles       2448         2250         2145   1712           1577   \n",
       "\n",
       "               Amarillo  Santa Fe  Albuquerque  Flagstaff  Los Angeles  \n",
       "Chicago            1175      1475         1544       1913         2448  \n",
       "Springfield         977      1277         1346       1715         2250  \n",
       "Saint-Louis         872      1172         1241       1610         2145  \n",
       "Tulsa               439       739          808       1177         1712  \n",
       "Oklahoma City       304       604          673       1042         1577  \n",
       "Amarillo              0       300          369        738         1273  \n",
       "Santa Fe            300         0           69        438          973  \n",
       "Albuquerque         369        69            0        369          904  \n",
       "Flagstaff           738       438          369          0          535  \n",
       "Los Angeles        1273       973          904        535            0  "
      ]
     },
     "execution_count": 120,
     "metadata": {},
     "output_type": "execute_result"
    }
   ],
   "source": [
    "#4.6\n",
    "import numpy as np\n",
    "import pandas as pd\n",
    "city = [\"Chicago\", \"Springfield\", \"Saint-Louis\", \"Tulsa\", \"Oklahoma City\", \"Amarillo\", \"Santa Fe\", \"Albuquerque\", \"Flagstaff\", \"Los Angeles\"]\n",
    "distance = np.array([0, 198, 303, 736, 871, 1175, 1475, 1544, 1913, 2448])\n",
    "distance1 = distance.copy()\n",
    "distance1 = distance1[ :,  np.newaxis ]\n",
    "matrix = abs( distance - distance1 )\n",
    "df=pd.DataFrame(matrix)\n",
    "df.index=city\n",
    "df.columns=city\n",
    "df"
   ]
  },
  {
   "cell_type": "code",
   "execution_count": 38,
   "id": "16c320ac-2bb5-4400-9f95-49f22c9a0472",
   "metadata": {},
   "outputs": [
    {
     "name": "stdout",
     "output_type": "stream",
     "text": [
      "[  2   3   5   7  11  13  17  19  23  29  31  37  41  43  47  53  59  61\n",
      "  67  71  73  79  83  89  97 101 103 107 109 113 127 131 137 139 149 151\n",
      " 157 163 167 173 179 181 191 193 197 199]\n",
      "[  2   3   5   7  11  13  17  19  23  29  31  37  41  43  47  53  59  61\n",
      "  67  71  73  79  83  89  97 101 103 107 109 113 127 131 137 139 149 151\n",
      " 157 163 167 173 179 181 191 193 197 199]\n"
     ]
    },
    {
     "data": {
      "image/png": "[encoded data removed]",
      "text/plain": [
       "<Figure size 1200x800 with 2 Axes>"
      ]
     },
     "metadata": {},
     "output_type": "display_data"
    }
   ],
   "source": [
    "#4.7\n",
    "import matplotlib.pyplot as plt\n",
    "from math import ceil\n",
    "import numpy as np\n",
    "import timeit\n",
    "\n",
    "def prime(N=99):\n",
    "    x=np.arange(0,N+1)\n",
    "    mask=np.full((N+1),True)\n",
    "    mask[0]=mask[1]=False\n",
    "    for i in range(2,N+1): mask[2*i:N+1:i]=False\n",
    "    return x[mask]\n",
    "    \n",
    "print(prime(200))\n",
    "\n",
    "def prime_opt(N=99):\n",
    "    x=np.arange(0,N+1)\n",
    "    mask=np.full((N+1),True)\n",
    "    mask[0]=mask[1]=False\n",
    "    mask[4::2]=False #set even = 0\n",
    "    #ricordati che prima setti gli even = False e poi il CICLO E' SOLO SUI DISPARI!!!\n",
    "    for i in range(3,ceil(np.sqrt(N+1)),2): mask[i*i:N+1:2*i]=False\n",
    "    return x[mask]\n",
    "\n",
    "print(prime_opt(200))\n",
    "\n",
    "iteraz = 10 #number in timeit.timeit tenuto basso perché sennò esplodeva il pc con troppe iterazioni\n",
    "N = [100*i for i in range(1,101)]\n",
    "T1 = [timeit.timeit(lambda : prime(n) , number=iteraz) for n in N ]\n",
    "T2 = [timeit.timeit(lambda : prime_opt(n) , number=iteraz) for n in N]\n",
    "\n",
    "plt.figure(figsize=(12,8))\n",
    "plt.subplot(1,2,1)\n",
    "plt.plot(N,T1,'-',label='normal sieve')\n",
    "plt.legend()\n",
    "plt.ylabel(f\"Time {iteraz} runs (s)\")\n",
    "plt.xlabel(\"N -limit prime search-\")\n",
    "\n",
    "plt.subplot(1,2,2)\n",
    "plt.plot(N,T2,'-',label='optimize sieve')\n",
    "plt.legend()\n",
    "plt.ylabel(f\"Time {iteraz} runs (s)\")\n",
    "plt.xlabel(\"N -limit prime search-\")\n",
    "plt.tight_layout()\n",
    "\n",
    "plt.show()"
   ]
  },
  {
   "cell_type": "code",
   "execution_count": 56,
   "id": "671e321a-2406-48f3-8891-dc8667db4e2e",
   "metadata": {},
   "outputs": [
    {
     "data": {
      "image/png": "[encoded data removed]",
      "text/plain": [
       "<Figure size 640x480 with 1 Axes>"
      ]
     },
     "metadata": {},
     "output_type": "display_data"
    }
   ],
   "source": [
    "#4.8\n",
    "import numpy.random as npr\n",
    "import pandas as pd\n",
    "data=1-2*npr.randint(0,2,size=(200,1000))\n",
    "df=pd.DataFrame(data)\n",
    "sum=abs(np.cumsum(data,axis=1))\n",
    "dist=np.sqrt( np.mean(sum**2,axis=0) )\n",
    "plt.plot(dist,'-')\n",
    "plt.grid(True)\n",
    "plt.title('Random walk')\n",
    "plt.ylabel('avarage square distance')\n",
    "plt.xlabel('steps')\n",
    "plt.show()"
   ]
  },
  {
   "cell_type": "code",
   "execution_count": 24,
   "id": "84f8ec36-18ee-4c88-9f9b-91b5661a04b8",
   "metadata": {},
   "outputs": [
    {
     "data": {
      "image/png": "[encoded data removed]",
      "text/plain": [
       "<Figure size 640x480 with 1 Axes>"
      ]
     },
     "metadata": {},
     "output_type": "display_data"
    },
    {
     "name": "stdout",
     "output_type": "stream",
     "text": [
      "              year          hare          lynx        carrot\n",
      "count    21.000000     21.000000     21.000000     21.000000\n",
      "mean   1910.000000  34080.952381  20166.666667  42400.000000\n",
      "std       6.204837  21413.981859  16655.999920   3404.555771\n",
      "min    1900.000000   7600.000000   4000.000000  36700.000000\n",
      "25%    1905.000000  19500.000000   8600.000000  39800.000000\n",
      "50%    1910.000000  25400.000000  12300.000000  41800.000000\n",
      "75%    1915.000000  47200.000000  29700.000000  44500.000000\n",
      "max    1920.000000  77400.000000  59400.000000  48300.000000\n",
      "            year      hare      lynx    carrot\n",
      "year    1.000000 -0.389177 -0.025448 -0.136333\n",
      "hare   -0.389177  1.000000  0.071892 -0.016604\n",
      "lynx   -0.025448  0.071892  1.000000 -0.680577\n",
      "carrot -0.136333 -0.016604 -0.680577  1.000000\n",
      "\n",
      "\n",
      "Species with the major population for each year\n",
      "      year max species\n",
      "0   1900.0      carrot\n",
      "1   1901.0      carrot\n",
      "2   1902.0        hare\n",
      "3   1903.0        hare\n",
      "4   1904.0        lynx\n",
      "5   1905.0        lynx\n",
      "6   1906.0      carrot\n",
      "7   1907.0      carrot\n",
      "8   1908.0      carrot\n",
      "9   1909.0      carrot\n",
      "10  1910.0      carrot\n",
      "11  1911.0      carrot\n",
      "12  1912.0        hare\n",
      "13  1913.0        hare\n",
      "14  1914.0        hare\n",
      "15  1915.0        lynx\n",
      "16  1916.0      carrot\n",
      "17  1917.0      carrot\n",
      "18  1918.0      carrot\n",
      "19  1919.0      carrot\n",
      "20  1920.0      carrot\n"
     ]
    }
   ],
   "source": [
    "#4.9\n",
    "#! wget https://www.dropbox.com/s/3vigxoqayo389uc/populations.txt\n",
    "#! cat populations.txt\n",
    "import numpy as np\n",
    "import matplotlib.pyplot as plt\n",
    "import pandas as pd\n",
    "data=np.loadtxt('populations.txt')\n",
    "df=pd.DataFrame(data)\n",
    "species=np.array(['year','hare','lynx','carrot'])\n",
    "df.columns=species\n",
    "year, hares, lynxes, carrots = data.T\n",
    "'''\n",
    "year=df['year']\n",
    "hare=df['hare']\n",
    "lynx=df['lynx']\n",
    "carrot=df['carrot']\n",
    "'''\n",
    "for i in species:\n",
    "    if i != 'year': plt.plot(year,df[i],label=i)\n",
    "plt.xlabel('year')\n",
    "plt.ylabel('population')\n",
    "plt.legend()\n",
    "plt.show()\n",
    "\n",
    "print(df.describe())\n",
    "print(df.corr())\n",
    "\n",
    "print('\\n')\n",
    "print('Species with the major population for each year')\n",
    "index_max=np.argmax(data[:,1:],axis=1) #skip coulum year\n",
    "df_max = pd.DataFrame({'year':year,'max species':species[1+index_max]})\n",
    "print(df_max)"
   ]
  },
  {
   "cell_type": "markdown",
   "id": "247897f2-fcf5-4a4f-bbbf-2d77a6f8418d",
   "metadata": {},
   "source": [
    "# ESERCIZI 5"
   ]
  },
  {
   "cell_type": "code",
   "execution_count": null,
   "id": "c880e01a-27d2-4668-8855-b9d230fb745f",
   "metadata": {},
   "outputs": [],
   "source": []
  },
  {
   "cell_type": "code",
   "execution_count": null,
   "id": "918b55ee-aefa-4c0e-b84d-03f2d2872ca1",
   "metadata": {},
   "outputs": [],
   "source": []
  },
  {
   "cell_type": "code",
   "execution_count": null,
   "id": "1c86dca9-95b3-48d9-8f65-764e0b5ee905",
   "metadata": {},
   "outputs": [],
   "source": []
  },
  {
   "cell_type": "code",
   "execution_count": null,
   "id": "8c4fa2a6-032e-4609-870f-4e4d5f193817",
   "metadata": {},
   "outputs": [],
   "source": []
  },
  {
   "cell_type": "code",
   "execution_count": null,
   "id": "24330700-a11c-4c5b-b5db-b3d242688577",
   "metadata": {},
   "outputs": [],
   "source": []
  },
  {
   "cell_type": "code",
   "execution_count": null,
   "id": "c6550355-6f94-41b2-92c3-790f7951d8d0",
   "metadata": {},
   "outputs": [],
   "source": []
  },
  {
   "cell_type": "code",
   "execution_count": null,
   "id": "d522fc3c-1654-4840-b353-b7c1ca111ee1",
   "metadata": {},
   "outputs": [],
   "source": []
  },
  {
   "cell_type": "code",
   "execution_count": null,
   "id": "613cf5f8-9498-4668-b48a-833fef17b84b",
   "metadata": {},
   "outputs": [],
   "source": []
  },
  {
   "cell_type": "code",
   "execution_count": null,
   "id": "1619de10-96fd-4ea7-93a5-10856d291411",
   "metadata": {},
   "outputs": [],
   "source": []
  },
  {
   "cell_type": "code",
   "execution_count": null,
   "id": "4cac7214-64c6-4527-8929-45387eec7e88",
   "metadata": {},
   "outputs": [],
   "source": []
  }
 ],
 "metadata": {
  "kernelspec": {
   "display_name": "Python 3 (ipykernel)",
   "language": "python",
   "name": "python3"
  },
  "language_info": {
   "codemirror_mode": {
    "name": "ipython",
    "version": 3
   },
   "file_extension": ".py",
   "mimetype": "text/x-python",
   "name": "python",
   "nbconvert_exporter": "python",
   "pygments_lexer": "ipython3",
   "version": "3.12.4"
  }
 },
 "nbformat": 4,
 "nbformat_minor": 5
}
