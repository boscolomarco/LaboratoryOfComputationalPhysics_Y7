{
 "cells": [
  {
   "cell_type": "code",
   "execution_count": null,
   "id": "89c4221f-3531-401a-8f23-f4e47f9aa235",
   "metadata": {},
   "outputs": [],
   "source": []
  },
  {
   "cell_type": "code",
   "execution_count": null,
   "id": "6b6f63cb-e370-44d3-96b2-7daa76cf85f2",
   "metadata": {},
   "outputs": [],
   "source": []
  },
  {
   "cell_type": "code",
   "execution_count": null,
   "id": "e543d5fe-1cfb-4d89-bcb7-29722cf8023f",
   "metadata": {},
   "outputs": [],
   "source": []
  },
  {
   "cell_type": "code",
   "execution_count": null,
   "id": "87b9e759-8860-476d-9286-f79615f3407a",
   "metadata": {},
   "outputs": [],
   "source": []
  },
  {
   "cell_type": "code",
   "execution_count": null,
   "id": "cd56cd61-9030-43c3-a931-f97f5aa26efe",
   "metadata": {},
   "outputs": [],
   "source": []
  },
  {
   "cell_type": "markdown",
   "id": "c205acc6-f490-45be-86ad-7f05145db533",
   "metadata": {},
   "source": [
    "# ESERCIZI 2"
   ]
  },
  {
   "cell_type": "code",
   "execution_count": 51,
   "id": "deffd557-14b0-40a2-8b8f-22d32310096e",
   "metadata": {},
   "outputs": [
    {
     "name": "stdout",
     "output_type": "stream",
     "text": [
      "AB2\n"
     ]
    }
   ],
   "source": [
    "#2.1\n",
    "#QUESTO PROGRAMMA E' ANCORA PIU' GENERALE PUO' FARE LA CONVERSIONE DI QUALSIASI BASE IN QUALSIASI BASE PURCHE' <= BASE 16\n",
    "\n",
    "#di default prendo e mi porto il numero a decimale (sia che parta da 2 o 16, oppure che sia da in 10)\n",
    "#poi da 10 mi sposto alla base finale richiesta\n",
    "\n",
    "#10 is treated as a number\n",
    "#2, 16 are treated as string\n",
    "\n",
    "a = list('0123456789ABCDEF')\n",
    "dict1 = {x:i for i,x in enumerate(a)} # useful for 2 / 16 ----> 10\n",
    "dict2 = {i:x for i,x in enumerate(a)} # useful for 10 ----> 2 / 16\n",
    "def to_decimal(value,base_from): # output in decimal  2--->10 or 16--->10\n",
    "    value = str(value).upper()\n",
    "    data = list(value)\n",
    "    data = data[::-1]\n",
    "    sum = 0\n",
    "    for i,x in enumerate(data):\n",
    "        if dict1[x] >= base_from: print('INPUT ERROR, BASE NOT CORRECT')\n",
    "        sum += dict1[x] * base_from ** i    \n",
    "    return sum\n",
    "\n",
    "def from_decimal(value,base_to): # 10--->2 or 10--->16, output is in string\n",
    "    if value == 0:\n",
    "        return '0'\n",
    "    else:\n",
    "        res = ''\n",
    "        while(value>0):\n",
    "            res = dict2[ value % base_to ] + res \n",
    "            value = value // base_to                   \n",
    "        return res\n",
    "\n",
    "def convert(value,base_from,base_to):\n",
    "    if base_from != 10:\n",
    "        value=to_decimal(value,base_from) #the value is convert to decimal\n",
    "    if base_to == 10:\n",
    "        return value\n",
    "    else: \n",
    "        return from_decimal(value,base_to) #before the value is always converted in base 10\n",
    "\n",
    "#origin='101010110010'\n",
    "#origin=2738\n",
    "origin='AB2'\n",
    "base_origin=16\n",
    "base_arrival=16\n",
    "#y = to_decimal(origin,base_origin)\n",
    "#print( y )\n",
    "#print( from_decimal( y,base_arrival ) ) \n",
    "print(convert(origin,base_origin,base_arrival))"
   ]
  },
  {
   "cell_type": "code",
   "execution_count": null,
   "id": "87282a66-dc90-4613-b4aa-d4fc318d087b",
   "metadata": {},
   "outputs": [],
   "source": []
  },
  {
   "cell_type": "code",
   "execution_count": null,
   "id": "7e17a5a4-3db5-41e5-87c0-81697dd64386",
   "metadata": {},
   "outputs": [],
   "source": []
  },
  {
   "cell_type": "code",
   "execution_count": null,
   "id": "f1685bf3-ed5d-43eb-a855-7d043ccc78e6",
   "metadata": {},
   "outputs": [],
   "source": []
  },
  {
   "cell_type": "code",
   "execution_count": 2,
   "id": "e71704fc-a47c-4d9a-a51d-750fd8e3b494",
   "metadata": {},
   "outputs": [
    {
     "name": "stdout",
     "output_type": "stream",
     "text": [
      "Solution of 0.001x*x+1000.0x+0.001=0 using standard formula are: \n",
      " -0.0000010000 and -1000000.00 \n",
      "\n",
      "Solution of 0.001x*x+1000.0x+0.001=0 using unrationalized formula are: \n",
      " -0.0000010000 and -1000010.58 \n",
      "\n",
      "The computational issues are due to the fact that sqrt(delta) in nearly 1000, so equal to b so in the formula it happens that there is a division between two small numbers anche the computer doesn't handle it properly.\n",
      "\n",
      "The best computational solution of 0.001x*x+1000.0x+0.001=0 are: \n",
      " -0.0000010000 and -1000000.00 \n",
      "\n"
     ]
    }
   ],
   "source": [
    "#2.5\n",
    "from math import sqrt\n",
    "a,b,c = 0.001,1000.,0.001\n",
    "\n",
    "#soluzioni sono -0.0000010000 and -1000000.00 , ossia -(1e-6) e -(1e6)\n",
    "#ax^2+bx+c = 0, ossia (1e-3)x^2 + (1e3)x + (1e-3) = 0\n",
    "\n",
    "def f(x,a=a,b=b,c=c): \n",
    "    return a*x*x+b*x+c\n",
    "def sqrt_delta(a=a,b=b,c=c):\n",
    "    delta=b*b-4*a*c\n",
    "    if delta>= 0. :\n",
    "        return(sqrt(delta))\n",
    "    else:\n",
    "        print('MATH ERROR, negative square root')\n",
    "def sol1(a=a,b=b,c=c): \n",
    "    return [(-b+sqrt_delta())/(2*a) , (-b-sqrt_delta())/(2*a)]\n",
    "def sol2(a=a,b=b,c=c): \n",
    "    return [(4*a*c)/(2*a*(-b-sqrt_delta())) , (4*a*c)/(2*a*(-b+sqrt_delta()))]\n",
    "\n",
    "def best_sol(a=a,b=b,c=c):\n",
    "    sol=[]\n",
    "    for i,j in zip( sol1(),sol2() ):\n",
    "        if abs(f(i)) <= abs(f(j)): sol.append(i)\n",
    "        else: sol.append(j)\n",
    "    return sol\n",
    "\n",
    "x1,x2=sol1()\n",
    "print(f'Solution of {a}x*x+{b}x+{c}=0 using standard formula are: \\n {x1:.10f} and {x2:.2f} \\n')\n",
    "x1,x2=sol2()\n",
    "print(f'Solution of {a}x*x+{b}x+{c}=0 using unrationalized formula are: \\n {x1:.10f} and {x2:.2f} \\n')\n",
    "\n",
    "print('The computational issues are due to the fact that sqrt(delta) in nearly 1000, \\\n",
    "so equal to b so in the formula it happens that there is a division between two small numbers anche the computer doesn\\'t handle it properly.\\n')\n",
    "\n",
    "x1,x2=best_sol()\n",
    "print(f'The best computational solution of {a}x*x+{b}x+{c}=0 are: \\n {x1:.10f} and {x2:.2f} \\n')"
   ]
  },
  {
   "cell_type": "code",
   "execution_count": 1,
   "id": "12cd2001-935e-4253-b7aa-b9689f020bcb",
   "metadata": {},
   "outputs": [
    {
     "name": "stdout",
     "output_type": "stream",
     "text": [
      "The derivative using the limit definition with delta 0.01 is equal to:\n",
      "1.01000000\n",
      "\n",
      "The derivative using the limit definition with delta 0.0001 is equal to:\n",
      "1.00010000\n",
      "\n",
      "The derivative using the limit definition with delta 1e-06 is equal to:\n",
      "1.00000100\n",
      "\n",
      "The derivative using the limit definition with delta 1e-08 is equal to:\n",
      "1.00000000\n",
      "\n",
      "The derivative using the limit definition with delta 1e-10 is equal to:\n",
      "1.00000008\n",
      "\n",
      "The derivative using the limit definition with delta 1e-12 is equal to:\n",
      "1.00008890\n",
      "\n",
      "The derivative using the limit definition with delta 1e-14 is equal to:\n",
      "0.99920072\n",
      "\n",
      "While the derivative analitic value is 1\n",
      "\n",
      "Not same results due to computational factors, not an easy calculation cause it arises from a divsion of two small numbers\n"
     ]
    },
    {
     "data": {
      "image/png": "[encoded data removed]",
      "text/plain": [
       "<Figure size 640x480 with 1 Axes>"
      ]
     },
     "metadata": {},
     "output_type": "display_data"
    }
   ],
   "source": [
    "#2.6\n",
    "import matplotlib.pyplot as plt\n",
    "import numpy as np\n",
    "def f(x=1): return x*(x-1)\n",
    "def f_prime(x=1): return 2*x-1\n",
    "def f_der_lim(x,d): return ( f(x+d) - f(x) ) / d\n",
    "delta = [ 10**(-2*i) for i in range(1,8) ]\n",
    "from_der = np.array( [ f_der_lim(1,d) for d in delta ] )\n",
    "for d,ris in zip(delta,from_der): print(f'The derivative using the limit definition with delta {d} is equal to:\\n{ris:.8f}\\n')\n",
    "print(f'While the derivative analitic value is {f_prime(x=1)}\\n')\n",
    "print('Not same results due to computational factors, not an easy calculation cause it arises from a divsion of two small numbers')\n",
    "plt.plot(delta,abs(from_der-1),'o')\n",
    "plt.ylabel('accuracy')\n",
    "plt.xlabel('delta')\n",
    "plt.xscale('log')\n",
    "plt.yscale('log')\n",
    "plt.xlim(10**(-15),10**(-1))\n",
    "plt.grid(True)\n",
    "plt.show()"
   ]
  },
  {
   "cell_type": "code",
   "execution_count": 5,
   "id": "685cb3d7-9d90-450f-9f1b-fccccabe1cdf",
   "metadata": {},
   "outputs": [
    {
     "name": "stdout",
     "output_type": "stream",
     "text": [
      "The integral comutationally with Riemann methon using N=100 is: 1.571282776229796\n",
      "The analitical result of the integral is 1.5707963267948966\n",
      "Number of iterations are 409600 to mantain Riemann method for integral below 1 second with result 1.5707963286530642\n",
      "Number of iterations are 13107200 to mantain Riemann method for integral below 20 second with result 1.57079632680516\n"
     ]
    }
   ],
   "source": [
    "#2.7\n",
    "from math import pi\n",
    "from math import sqrt\n",
    "import numpy as np\n",
    "import time\n",
    "#N=100\n",
    "def f(x): \n",
    "    return sqrt(1-x*x)\n",
    "def integr(N):\n",
    "    bins = np.linspace(-1,1,N+1) #using this trick to center the xi in the bins, see below\n",
    "    a = np.array( [ f(x) for x in (bins[1:]+bins[:-1])/2 ] )\n",
    "    return a.sum()*2/N\n",
    "def time_integr(N):\n",
    "    start=time.time()\n",
    "    integr(N)\n",
    "    end=time.time()\n",
    "    return end-start\n",
    "print(f\"The integral comutationally with Riemann methon using N={100} is: {integr(100)}\")\n",
    "print(f'The analitical result of the integral is {pi/2}')\n",
    "def max_iteraz(seconds):\n",
    "    N=100\n",
    "    while(time_integr(N)<seconds):\n",
    "        N = N * 2\n",
    "    return int(N / 2) #sennò il programma ti da errore che lo interpreta come un float e non funzina più np.linspace(a,b,N)\n",
    "N_1_sec = max_iteraz(1)\n",
    "N_20_sec = max_iteraz(20)\n",
    "print(f'Number of iterations are {N_1_sec} to mantain Riemann method for integral below 1 second with result {integr(N_1_sec)}')\n",
    "print(f'Number of iterations are {N_20_sec} to mantain Riemann method for integral below 20 second with result {integr(N_20_sec)}')"
   ]
  },
  {
   "cell_type": "code",
   "execution_count": null,
   "id": "04765ab1-efeb-4faf-bbc5-bf146d3504e7",
   "metadata": {},
   "outputs": [],
   "source": []
  },
  {
   "cell_type": "code",
   "execution_count": null,
   "id": "4cac7214-64c6-4527-8929-45387eec7e88",
   "metadata": {},
   "outputs": [],
   "source": []
  }
 ],
 "metadata": {
  "kernelspec": {
   "display_name": "Python 3 (ipykernel)",
   "language": "python",
   "name": "python3"
  },
  "language_info": {
   "codemirror_mode": {
    "name": "ipython",
    "version": 3
   },
   "file_extension": ".py",
   "mimetype": "text/x-python",
   "name": "python",
   "nbconvert_exporter": "python",
   "pygments_lexer": "ipython3",
   "version": "3.12.4"
  }
 },
 "nbformat": 4,
 "nbformat_minor": 5
}
